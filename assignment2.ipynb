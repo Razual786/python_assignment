{
  "nbformat": 4,
  "nbformat_minor": 0,
  "metadata": {
    "colab": {
      "name": "assignment2.ipynb",
      "provenance": [],
      "authorship_tag": "ABX9TyODHHHLLWA1VNCR3bng9cxY",
      "include_colab_link": true
    },
    "kernelspec": {
      "name": "python3",
      "display_name": "Python 3"
    }
  },
  "cells": [
    {
      "cell_type": "markdown",
      "metadata": {
        "id": "view-in-github",
        "colab_type": "text"
      },
      "source": [
        "<a href=\"https://colab.research.google.com/github/Razual786/python_assignment/blob/main/assignment2.ipynb\" target=\"_parent\"><img src=\"https://colab.research.google.com/assets/colab-badge.svg\" alt=\"Open In Colab\"/></a>"
      ]
    },
    {
      "cell_type": "code",
      "metadata": {
        "colab": {
          "base_uri": "https://localhost:8080/"
        },
        "id": "fGxbV5Fh9jKW",
        "outputId": "efc6dc78-1422-46e5-ace8-7f1804cd537e"
      },
      "source": [
        "test_list=[1,5,3,6,3,5,6,1]\r\n",
        "print(\"the original list is:\"+str(test_list))\r\n",
        "test_list=(set(test_list))\r\n",
        "print(\"the list after removing duplicates\"+str(test_list))\r\n"
      ],
      "execution_count": 5,
      "outputs": [
        {
          "output_type": "stream",
          "text": [
            "the original list is:[1, 5, 3, 6, 3, 5, 6, 1]\n",
            "the list after removing duplicates{1, 3, 5, 6}\n"
          ],
          "name": "stdout"
        }
      ]
    },
    {
      "cell_type": "code",
      "metadata": {
        "colab": {
          "base_uri": "https://localhost:8080/"
        },
        "id": "1GfLzhiHB-6O",
        "outputId": "67b1c5be-9719-4c4b-bbc1-cb5a48ad7a51"
      },
      "source": [
        "list1=[1,3,5,7,9]\r\n",
        "list2=[1,2,4,6,7,8]\r\n",
        "diff_list1_list2=list(set(list1)-set(list2))\r\n",
        "diff_list2_list1=list(set(list1)-set(list2))\r\n",
        "total_diff=diff_list1_list2+diff_list2_list1\r\n",
        "print(total_diff)\r\n"
      ],
      "execution_count": 6,
      "outputs": [
        {
          "output_type": "stream",
          "text": [
            "[9, 3, 5, 9, 3, 5]\n"
          ],
          "name": "stdout"
        }
      ]
    },
    {
      "cell_type": "code",
      "metadata": {
        "colab": {
          "base_uri": "https://localhost:8080/"
        },
        "id": "XT_ErQTtC1Hv",
        "outputId": "6ce77086-340a-477d-9fa8-1ce62c8d80fd"
      },
      "source": [
        "import collections\r\n",
        "my_list = [10,10,10,10,20,20,20,20,40,40,50,50,30]\r\n",
        "print(\"Original List : \",my_list)\r\n",
        "ctr = collections.Counter(my_list)\r\n",
        "print(\"Frequency of the elements in the List : \",ctr)\r\n"
      ],
      "execution_count": 17,
      "outputs": [
        {
          "output_type": "stream",
          "text": [
            "Original List :  [10, 10, 10, 10, 20, 20, 20, 20, 40, 40, 50, 50, 30]\n",
            "Frequency of the elements in the List :  Counter({10: 4, 20: 4, 40: 2, 50: 2, 30: 1})\n"
          ],
          "name": "stdout"
        }
      ]
    },
    {
      "cell_type": "code",
      "metadata": {
        "colab": {
          "base_uri": "https://localhost:8080/"
        },
        "id": "kmDC4umSERvj",
        "outputId": "6249180e-7e59-41db-e24b-1ad2459720f5"
      },
      "source": [
        "from collections import Counter\r\n",
        "color1 = [\"red\", \"orange\", \"green\", \"blue\", \"white\"]\r\n",
        "color2 = [\"black\", \"yellow\", \"green\", \"blue\"]\r\n",
        "counter1 = Counter(color1)\r\n",
        "counter2 = Counter(color2)\r\n",
        "print(\"Color1-Color2: \",list(counter1 - counter2))\r\n",
        "print(\"Color2-Color1: \",list(counter2 - counter1))"
      ],
      "execution_count": 18,
      "outputs": [
        {
          "output_type": "stream",
          "text": [
            "Color1-Color2:  ['red', 'orange', 'white']\n",
            "Color2-Color1:  ['black', 'yellow']\n"
          ],
          "name": "stdout"
        }
      ]
    }
  ]
}