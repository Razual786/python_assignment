{
  "nbformat": 4,
  "nbformat_minor": 0,
  "metadata": {
    "colab": {
      "name": "assignment1.ipynb",
      "provenance": [],
      "authorship_tag": "ABX9TyO+72HpkSjfBeXDbPhxKlQX",
      "include_colab_link": true
    },
    "kernelspec": {
      "name": "python3",
      "display_name": "Python 3"
    }
  },
  "cells": [
    {
      "cell_type": "markdown",
      "metadata": {
        "id": "view-in-github",
        "colab_type": "text"
      },
      "source": [
        "<a href=\"https://colab.research.google.com/github/Razual786/python_assignment/blob/main/assignment1.ipynb\" target=\"_parent\"><img src=\"https://colab.research.google.com/assets/colab-badge.svg\" alt=\"Open In Colab\"/></a>"
      ]
    },
    {
      "cell_type": "code",
      "metadata": {
        "colab": {
          "base_uri": "https://localhost:8080/"
        },
        "id": "sMZAJXMl-hkF",
        "outputId": "d33f4985-f489-41f1-ede5-5391a93f3fe3"
      },
      "source": [
        "x=5\r\n",
        "(2*x+5)/(x**2+5*x+6)"
      ],
      "execution_count": null,
      "outputs": [
        {
          "output_type": "execute_result",
          "data": {
            "text/plain": [
              "0.26785714285714285"
            ]
          },
          "metadata": {
            "tags": []
          },
          "execution_count": 1
        }
      ]
    },
    {
      "cell_type": "code",
      "metadata": {
        "colab": {
          "base_uri": "https://localhost:8080/"
        },
        "id": "s8_6CFlc-ydr",
        "outputId": "e8061879-08ec-400e-91f2-a349b614af3a"
      },
      "source": [
        "(x**2+5*x+6)/(2*x+5)"
      ],
      "execution_count": null,
      "outputs": [
        {
          "output_type": "execute_result",
          "data": {
            "text/plain": [
              "3.7333333333333334"
            ]
          },
          "metadata": {
            "tags": []
          },
          "execution_count": 2
        }
      ]
    },
    {
      "cell_type": "code",
      "metadata": {
        "colab": {
          "base_uri": "https://localhost:8080/"
        },
        "id": "7kBMjTPD--0N",
        "outputId": "286cbedb-7f97-40fe-a2ec-a0443712b01e"
      },
      "source": [
        "(2*x-3)*(x+9)"
      ],
      "execution_count": null,
      "outputs": [
        {
          "output_type": "execute_result",
          "data": {
            "text/plain": [
              "98"
            ]
          },
          "metadata": {
            "tags": []
          },
          "execution_count": 4
        }
      ]
    },
    {
      "cell_type": "code",
      "metadata": {
        "id": "xXq9d23z_Yox",
        "colab": {
          "base_uri": "https://localhost:8080/"
        },
        "outputId": "b45986d0-7c80-4557-c40b-9f20a36342a7"
      },
      "source": [
        "print(\"Enter correct username and password combo to continue\")\r\n",
        "count=0\r\n",
        "password=\"ind\"\r\n",
        "username=\"india\"\r\n",
        "\r\n",
        "while password!='Hytu76E' and username!='bank_admin' and count<4:\r\n",
        "    username=input(\"Enter username: \") \r\n",
        "    password=input(\"Enter password: \")\r\n",
        "\r\n",
        "    if password=='ind' and username=='india':\r\n",
        "     print('Access granted')\r\n",
        "\r\n",
        "    else:\r\n",
        "        print('Access denied. Try again.')\r\n",
        "        count-=1"
      ],
      "execution_count": null,
      "outputs": [
        {
          "output_type": "stream",
          "text": [
            "Enter correct username and password combo to continue\n",
            "Enter username: india\n",
            "Enter password: ind\n",
            "Access granted\n"
          ],
          "name": "stdout"
        }
      ]
    }
  ]
}